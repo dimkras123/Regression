{
 "cells": [
  {
   "cell_type": "code",
   "execution_count": null,
   "metadata": {},
   "outputs": [],
   "source": [
    "# Polynomial Regression - when the regression is not lineafr and we can use square value \n",
    "# to depicit it.\n",
    "# Bias is a measures how good our real value is estimated\n",
    "# Variance is a measure how frequent (the steps) is it sampled. e.g. every 10 sec. \n",
    "# or every 1 sec. \n",
    "# High variance means the model passes through most of the data points.\n",
    "# Examples are: Stock market estimation, or R-Resistance in dependance with Temperatures\n",
    "# The bias-variance tradeoff is a particular property of all \n",
    "# (supervised) machine learning models, that enforces a tradeoff between how \n",
    "# \"flexible\" the model is and how well it performs on unseen data.\n",
    "# Ideally, a machine learning model should have low variance and low bias.\n",
    "# But practically it’s impossible to have both\n",
    "# Another example: electricity consumptions in kilowatt-hours per month \n",
    "# from a Number houses and the areas in square feet of those houses"
   ]
  }
 ],
 "metadata": {
  "kernelspec": {
   "display_name": "Python 3",
   "language": "python",
   "name": "python3"
  },
  "language_info": {
   "codemirror_mode": {
    "name": "ipython",
    "version": 3
   },
   "file_extension": ".py",
   "mimetype": "text/x-python",
   "name": "python",
   "nbconvert_exporter": "python",
   "pygments_lexer": "ipython3",
   "version": "3.7.3"
  }
 },
 "nbformat": 4,
 "nbformat_minor": 2
}
